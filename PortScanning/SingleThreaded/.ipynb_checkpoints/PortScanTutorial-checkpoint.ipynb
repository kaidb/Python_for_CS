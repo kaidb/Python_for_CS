{
 "cells": [
  {
   "cell_type": "code",
   "execution_count": 20,
   "metadata": {},
   "outputs": [],
   "source": [
    "# Jupyter stuff, feel free to ignore\n",
    "from IPython.display import Image\n",
    "\n",
    "# Used for Code\n",
    "import subprocess\n",
    "import socket\n",
    "import sys\n",
    "from tqdm import tqdm_notebook as tqdm"
   ]
  },
  {
   "cell_type": "markdown",
   "metadata": {},
   "source": [
    "# Introduction to Port Scanning \n",
    "## Overview\n",
    "This Notebook gives a brief overview of: \n",
    "- BSD Sockets in Python 3\n",
    "- Python equivalent commands for some common UNIX networking commands \n",
    "- How to write a basic Port Scanner. \n",
    "\n",
    "## Prerequisites \n",
    "- Basic understanding of the TCP networking protocol\n",
    "- Basic Understanding of socket application programming interface\n",
    "## Disclaimer: \n",
    "- I take no responsibility for silly or illegal things you do. See License for more details.  "
   ]
  },
  {
   "cell_type": "markdown",
   "metadata": {},
   "source": [
    "# Sockets\n",
    "## 10,000 ft Overview\n",
    "You are encouraged to read the documentation found [here](https://docs.python.org/3/library/socket.html).\n",
    "\n",
    "The socket module in Python 3 provides a pure python API access to the BSD socket interface. Out of the box, it comes with\n",
    "- A socket class, for handling the actual data channel\n",
    "- unctions for network-related tasks\n",
    "    - For example: mapping server names to IP addresses\n",
    "    \n",
    "## Initializing a Socket\n",
    "- The most common way of initializing a socket in python is to call the socket constructor as follows: \n",
    "    - `sock = socket.socket(socket.AF_INET, socket.SOCK_STREAM)`\n",
    "    - Note the variable name you assign it to doesn't matter, but by convention and for readability, a selection is typically made from $\\{\\text{s,sock} \\}$\n",
    "## Breaking down the Command\n",
    "- The INET sockets, account for the vast majority of sockets in use. \n",
    "    - `AF_INET` corresponds to network protocol IPv4. For IPv6 use `AF_INET6 `\n",
    "- Stream sockets/connection-oriented sockets send and receive data over Transmission Control Protocol (TCP)\n",
    "    - Technically speaking, they could also send/receive data using SCTP and also DCCP. We will only worry about TCP "
   ]
  },
  {
   "cell_type": "code",
   "execution_count": 18,
   "metadata": {},
   "outputs": [],
   "source": [
    "# Basic  usage\n",
    "import socket\n",
    "\n",
    "socket.setdefaulttimeout(.5)\n",
    "\n",
    "# create a IPV4 TCP socket. \n"
   ]
  },
  {
   "cell_type": "markdown",
   "metadata": {},
   "source": [
    "# Great, now what can we do with it?\n",
    "- We can connect to a IP:Port pair. Lets try http://example.com/ \n",
    "    - We can also send, and receive data but for now we will only focus on connecting. \n",
    "- To do this, we first resolve the URL into an IP address\n",
    "- We then connect to the site using one of the default HTTP port numbers (80, 443, 8080...etc)"
   ]
  },
  {
   "cell_type": "code",
   "execution_count": 17,
   "metadata": {},
   "outputs": [
    {
     "name": "stdout",
     "output_type": "stream",
     "text": [
      "IP Address for www.example.com is 93.184.216.34\n",
      "Success! We connected to 93.184.216.34:80\n"
     ]
    }
   ],
   "source": [
    "sock = socket.socket(socket.AF_INET, socket.SOCK_STREAM)\n",
    "\n",
    "target_url = 'www.example.com'\n",
    "target_port = 80\n",
    "host_ip = socket.gethostbyname(target_url)\n",
    "print(\"IP Address for {} is {}\".format(target_url,host_ip))\n",
    "try:\n",
    "    sock.connect((host_ip, target_port))\n",
    "    print(\"Success! We connected to {}:{}\".format(host_ip, target_port))\n",
    "except socket.timeout:\n",
    "    print(\"Timeout error encountered.\")\n",
    "    "
   ]
  },
  {
   "cell_type": "markdown",
   "metadata": {},
   "source": [
    "# Discovering Open Ports\n",
    "As I am sure you have noticed, if we can check if a connection can be established on port 80, what is stopping us from checking if we can connect to arbitrary ports?\n",
    "    - Answer: Nothing. \n",
    "    \n",
    "## Port Scanner Algorithm\n",
    "- Initialize Host IP to `w.x.y.z`:\n",
    "- `for p in range(1, upper_port):`\n",
    "    - Try to connect to `w.x.y.z:p`\n",
    "    - If successful this port is open. "
   ]
  },
  {
   "cell_type": "code",
   "execution_count": 22,
   "metadata": {},
   "outputs": [],
   "source": [
    "def port_scan(host, port):\n",
    "    \"\"\"\n",
    "    Attempts to connect to a host as a particular port\n",
    "    @Arguments:\n",
    "    host -- the ip address or server hostname to scan\n",
    "    port -- port to connect to\n",
    "    \"\"\"\n",
    "\n",
    "    # (AF_INET, SOCK_STREAM) <==> (IPV4, TCP)\n",
    "    sock = socket.socket(socket.AF_INET, socket.SOCK_STREAM)\n",
    "    try:\n",
    "        # Try to connect to host:port.\n",
    "        con = sock.connect((host,port))\n",
    "        print( \"Port {}:      Open\".format(port))\n",
    "        sock.close()\n",
    "        return port\n",
    "    except socket.timeout:\n",
    "        # If theres a time out, the port is probably closed\n",
    "        return False"
   ]
  },
  {
   "cell_type": "markdown",
   "metadata": {},
   "source": [
    "# Identifying Open Ports on a Website: \n",
    "- Lets test this out on a real website. In particular, lets try and identify open ports on https://www.hackthissite.org/. \n",
    "- We can do this because they give **explicit legal permission to do so ** [here](Express permission given here: https://www.hackthissite.org/info/about)\n",
    "\n",
    "## DISCLAIMER: I AM NOT A LAWYER\n",
    "![BirdLaw](https://media1.tenor.com/images/1493636f391a486ca2e960b4de698d1d/tenor.gif?itemid=8142507)\n",
    "- Port Scanning is in a legal gray area. While technically not illegal, if you accidentally break something while port scanning, and the entity that owns the thing you broke has deep pockets, it is very  probable that they will  make your life miserable in the form of a lawsuit. "
   ]
  },
  {
   "cell_type": "code",
   "execution_count": 23,
   "metadata": {},
   "outputs": [
    {
     "data": {
      "application/vnd.jupyter.widget-view+json": {
       "model_id": "c2cdf569594543e895a19502e639c388",
       "version_major": 2,
       "version_minor": 0
      },
      "text/plain": [
       "HBox(children=(IntProgress(value=0, max=1023), HTML(value='')))"
      ]
     },
     "metadata": {},
     "output_type": "display_data"
    },
    {
     "name": "stdout",
     "output_type": "stream",
     "text": [
      "Port 22:      Open\n",
      "Port 80:      Open\n",
      "Port 443:      Open\n",
      "\n"
     ]
    }
   ],
   "source": [
    "# Lets try to port scan http://hackthissite.org\n",
    "# Express premission given here: https://www.hackthissite.org/info/about\n",
    "target_url = 'www.hackthissite.org'\n",
    "ip = socket.gethostbyname(target_url)\n",
    "port_range = range(1,1024)\n",
    "\n",
    "# tqdpm is a nice tool for tracking progress\n",
    "# on single threaded processes\n",
    "for port in tqdm(port_range):\n",
    "    port_scan(ip, port)\n",
    "    \n",
    "\n"
   ]
  },
  {
   "cell_type": "markdown",
   "metadata": {},
   "source": [
    "# What is next?\n",
    "- For a Command Line Interface, see portscan.py\n",
    "- If you have ever used nmap, you probably noticed that this program is extremely slow compared to nmap. For one, NMAP is **multithreaded** meaning it can scan multiple ports concurrently. \n"
   ]
  }
 ],
 "metadata": {
  "kernelspec": {
   "display_name": "Python 3",
   "language": "python",
   "name": "python3"
  }
 },
 "nbformat": 4,
 "nbformat_minor": 2
}
