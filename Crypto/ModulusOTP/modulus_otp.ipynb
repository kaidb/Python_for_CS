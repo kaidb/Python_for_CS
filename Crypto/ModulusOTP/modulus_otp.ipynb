{
 "cells": [
  {
   "cell_type": "code",
   "execution_count": 40,
   "metadata": {},
   "outputs": [],
   "source": [
    "import binascii\n",
    "import random"
   ]
  },
  {
   "cell_type": "code",
   "execution_count": 45,
   "metadata": {},
   "outputs": [],
   "source": [
    "# Modular one time pad \n",
    "# Need to pass akey\n",
    "class OTP:\n",
    "    def __init__(self, key, modulus):\n",
    "        self._key = key\n",
    "        self._modulus = modulus\n",
    "        \n",
    "    def encode_message(self, message):\n",
    "        encoded = int(binascii.hexlify(message.encode('utf-8')), 16)\n",
    "        assert encoded < self._modulus\n",
    "        return encoded\n",
    "\n",
    "    def decode_message(self, message):\n",
    "        assert type(message) == int\n",
    "        return bytes.fromhex(hex(message)[2:]).decode('utf-8')\n",
    "    \n",
    "    \n",
    "    def encrypt(self, message):\n",
    "        enc =  self.encode_message(message)\n",
    "        return (enc + self._key) % self._modulus\n",
    "    \n",
    "    def decrypt(self, ciphertext):\n",
    "        encoded_pt = (ciphertext - self._key) % self._modulus\n",
    "        return self.decode_message(encoded_pt)\n",
    "        \n",
    "        "
   ]
  },
  {
   "cell_type": "code",
   "execution_count": 46,
   "metadata": {},
   "outputs": [
    {
     "data": {
      "text/plain": [
       "7106412"
      ]
     },
     "execution_count": 46,
     "metadata": {},
     "output_type": "execute_result"
    }
   ],
   "source": [
    "int(binascii.hexlify('lol'.encode('utf-8')), 16)"
   ]
  },
  {
   "cell_type": "code",
   "execution_count": 47,
   "metadata": {},
   "outputs": [],
   "source": [
    "message = 'hello there'"
   ]
  },
  {
   "cell_type": "code",
   "execution_count": 48,
   "metadata": {},
   "outputs": [],
   "source": [
    "otp = OTP(random.randint(0,2**256-1), 2**256)"
   ]
  },
  {
   "cell_type": "code",
   "execution_count": 50,
   "metadata": {},
   "outputs": [
    {
     "data": {
      "text/plain": [
       "'hello there'"
      ]
     },
     "execution_count": 50,
     "metadata": {},
     "output_type": "execute_result"
    }
   ],
   "source": [
    "otp.decrypt(otp.encrypt(message))"
   ]
  }
 ],
 "metadata": {
  "kernelspec": {
   "display_name": "Python 3",
   "language": "python",
   "name": "python3"
  },
  "language_info": {
   "codemirror_mode": {
    "name": "ipython",
    "version": 3
   },
   "file_extension": ".py",
   "mimetype": "text/x-python",
   "name": "python",
   "nbconvert_exporter": "python",
   "pygments_lexer": "ipython3",
   "version": "3.6.3"
  }
 },
 "nbformat": 4,
 "nbformat_minor": 2
}
