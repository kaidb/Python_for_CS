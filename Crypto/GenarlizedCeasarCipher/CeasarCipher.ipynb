{
 "cells": [
  {
   "cell_type": "code",
   "execution_count": 7,
   "metadata": {},
   "outputs": [],
   "source": [
    "alpha_map  = {i:chr(97 + i) for i in range(26)}"
   ]
  },
  {
   "cell_type": "code",
   "execution_count": 56,
   "metadata": {},
   "outputs": [],
   "source": [
    "full_alpha_map = {i:chr(32 + i)  for i in range(95)}"
   ]
  },
  {
   "cell_type": "code",
   "execution_count": 52,
   "metadata": {},
   "outputs": [],
   "source": [
    "class CeasarCipher:\n",
    "    def __init__(self, shift, alpha_map = 'default'):\n",
    "        if type(alpha_map) != dict:\n",
    "            self.alpha_map  = {i:chr(97 + i) for i in range(26)}\n",
    "        else: \n",
    "            self.alpha_map = alpha_map\n",
    "        self._shift = shift\n",
    "        self.modulus = len(self.alpha_map)\n",
    "    \n",
    "    def shift_k(self,m, k):\n",
    "        sm = ''\n",
    "        for i in m:\n",
    "            ind = ord(i) - ord(self.alpha_map[0])\n",
    "            if ind in self.alpha_map:\n",
    "                sm += self.alpha_map[(ind + k)%self.modulus]  \n",
    "            else:\n",
    "                sm += i\n",
    "        return sm\n",
    "            \n",
    "    def encrypt(self, message):\n",
    "        return self.shift_k(message, self._shift)\n",
    "    \n",
    "    def decrypt(self, ciphertext):\n",
    "        return self.shift_k(ciphertext, self.modulus- self._shift)\n",
    "    "
   ]
  },
  {
   "cell_type": "code",
   "execution_count": 57,
   "metadata": {},
   "outputs": [
    {
     "data": {
      "text/plain": [
       "'rovvy*~ro|o*s*rk!o*~ro*rsqr*q|y xn'"
      ]
     },
     "execution_count": 57,
     "metadata": {},
     "output_type": "execute_result"
    }
   ],
   "source": [
    "ciph = CeasarCipher(10, full_alpha_map)\n",
    "m = 'hello there i have the high ground'\n",
    "ciph_text =  ciph.encrypt(m)\n",
    "ciph_text"
   ]
  },
  {
   "cell_type": "code",
   "execution_count": 58,
   "metadata": {},
   "outputs": [
    {
     "data": {
      "text/plain": [
       "'hello there i have the high ground'"
      ]
     },
     "execution_count": 58,
     "metadata": {},
     "output_type": "execute_result"
    }
   ],
   "source": [
    "ciph.decrypt(ciph_text)"
   ]
  },
  {
   "cell_type": "code",
   "execution_count": null,
   "metadata": {},
   "outputs": [],
   "source": []
  }
 ],
 "metadata": {
  "kernelspec": {
   "display_name": "Python 3",
   "language": "python",
   "name": "python3"
  },
  "language_info": {
   "codemirror_mode": {
    "name": "ipython",
    "version": 3
   },
   "file_extension": ".py",
   "mimetype": "text/x-python",
   "name": "python",
   "nbconvert_exporter": "python",
   "pygments_lexer": "ipython3",
   "version": "3.6.3"
  }
 },
 "nbformat": 4,
 "nbformat_minor": 2
}
