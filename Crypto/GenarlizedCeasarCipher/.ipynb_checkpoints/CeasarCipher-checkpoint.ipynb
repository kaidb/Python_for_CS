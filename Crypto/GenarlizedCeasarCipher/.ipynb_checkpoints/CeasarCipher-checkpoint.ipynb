{
 "cells": [
  {
   "cell_type": "markdown",
   "metadata": {},
   "source": [
    "# Introduction to Strings:\n",
    "This notebook introduces the strings built in type for python. To help illustrate built in functionality, we use the Cesar Cipher ad a motivating example. In particular, we want to build a Cesar Cipher  cracker. \n",
    "\n",
    "## What is a string?\n",
    "- Anything that is wrapped in `\"\"`, `''`, or `\"\"\"\"\"\"`\n",
    "- Used to store text.\n",
    "- Strings behave similarly to lists. They can be indexed, sliced, and concatenated\n",
    "\n",
    "\n",
    "# Operators on Strings and Lists\n",
    "- $+$ denotes Concatenation (strings and lists) is also. In other words, the operator + is overloaded \n",
    "    - The only time that 1+1=11\n",
    "    - Think of it like gluing one string to another. \n",
    "    - EG $\\texttt{'a'+'a' = 'aa'}$\n",
    "    - This works the same way for lists!\n",
    "- Elements of a string are accessed via `[index]` starting at 0\n",
    "    - We can also index from the back (negative index) \n",
    "    - We can also slice. \n",
    "    \n",
    "    \n",
    "## PreReqs:\n",
    "- Modular arithmetic"
   ]
  },
  {
   "cell_type": "code",
   "execution_count": 2,
   "metadata": {},
   "outputs": [
    {
     "name": "stdout",
     "output_type": "stream",
     "text": [
      "Hello, world!\n"
     ]
    }
   ],
   "source": [
    "# Obligitory First program\n",
    "\n",
    "print(\"Hello, world!\")"
   ]
  },
  {
   "cell_type": "code",
   "execution_count": 6,
   "metadata": {},
   "outputs": [
    {
     "name": "stdout",
     "output_type": "stream",
     "text": [
      "ab\n"
     ]
    }
   ],
   "source": [
    "#String Concetination\n",
    "s0 = \"a\"\n",
    "s1 = \"b\"\n",
    "concat_s = s0 + s1 # This attataches \"a\" and \"b\" to make \"ab\"\n",
    "print(concat_s)\n"
   ]
  },
  {
   "cell_type": "code",
   "execution_count": 8,
   "metadata": {},
   "outputs": [
    {
     "name": "stdout",
     "output_type": "stream",
     "text": [
      "Something\n"
     ]
    }
   ],
   "source": [
    "nothing = \"\" # The empty string. Think of it like the zero of strings.\n",
    "w0 = 'Something' + nothing\n",
    "print(w0)\n"
   ]
  },
  {
   "cell_type": "code",
   "execution_count": 9,
   "metadata": {},
   "outputs": [
    {
     "name": "stdout",
     "output_type": "stream",
     "text": [
      "Hello world!\n"
     ]
    }
   ],
   "source": [
    "w1 = 'Hello'\n",
    "w2 = 'world'\n",
    "w3 ='!'\n",
    "space= \" \" # space\n",
    "#String Concatination\n",
    "print(w1 + space + w2 + w3)"
   ]
  },
  {
   "cell_type": "code",
   "execution_count": 11,
   "metadata": {},
   "outputs": [
    {
     "name": "stdout",
     "output_type": "stream",
     "text": [
      "This is a sentence.\n",
      "This too, is a sentence\n"
     ]
    }
   ],
   "source": [
    "new_line = \"\\n\" # a new line charecter\n",
    "w4 = \"This is a sentence.\"\n",
    "w5 = \"This too, is a sentence\"\n",
    "print(w4 + new_line + w5)"
   ]
  },
  {
   "cell_type": "code",
   "execution_count": 12,
   "metadata": {},
   "outputs": [],
   "source": [
    "tab = \"\\t\" #a tab \n",
    "first_program = \"Hello, world!\"\n",
    "ex0 = \"Feel free to m1x letters and numbers.\"\n",
    "ex1 = \"L33t H4Xs\""
   ]
  },
  {
   "cell_type": "code",
   "execution_count": 5,
   "metadata": {},
   "outputs": [
    {
     "name": "stdout",
     "output_type": "stream",
     "text": [
      "Skipping every other letter:  lhlh\n",
      "sdrawkcab og ylno ew ekil sleeF\n"
     ]
    }
   ],
   "source": [
    "# skips every other letter\n",
    "print(\"Skipping every other letter: \", 'blahblah'[1::2])\n",
    "\n",
    "# reversing a string\n",
    "print(\"Feels like we only go backwards\"[::-1])"
   ]
  },
  {
   "cell_type": "code",
   "execution_count": 24,
   "metadata": {},
   "outputs": [
    {
     "name": "stdout",
     "output_type": "stream",
     "text": [
      "Today is 2018-08-21 13:55:11.550129\n"
     ]
    }
   ],
   "source": [
    "# Formating\n",
    "import datetime\n",
    "\n",
    "# this removes the {} and puts the contents of format()\n",
    "# in its place. \n",
    "print(\"Today is {}\".format(datetime.datetime.now()))"
   ]
  },
  {
   "cell_type": "markdown",
   "metadata": {},
   "source": [
    "# Mapping Letters to numbers: Cesar Cipher\n",
    "## High Level Idea\n",
    "In the standard setup, Alice and Bob agree on a shift amount $k$. For each message consisting of letters from an alphabet, we shift its position in the alphabet by $k$ wrapping around.\n",
    "- For example, shifting $a$ by 1 would map $a$ to $b$. \n",
    "    - When we say wrap around, this means if the shift is 3, and we want to shift $z$ 3 places, this shift chain would be $$z\\to a\\to b \\to c$$\n",
    "    - We can also shift by a negative amount: if we shift $b$ by -1, this would map it back to $a$. \n",
    "    - To Encrypt a message, we shift all letters by $k$. \n",
    "    - TO Decrypt, shift all letters in the ciphertext by $-k$. \n",
    "- We can make this more general though using an arbitrary alphabet, and an arbitrary ordering. \n",
    "\n",
    "## Simplified Example for general alphabet\n",
    "- Lets pretend the alphabet only consisted of 4 letters: $a,b,c \\text{ and } d$. We will call this our Alphabet and denote it by $A$ written $A=\\{a,b,c,d\\}$. \n",
    "- Lets also associate an order to this alphabet. In particular, for each letter in our alphabet, we associate a number that determines a letter's position in the alphabet. We will call this our Universe, and denote it as $U=\\{0,1,2,3\\}$. Then under this system, and the standard ordering of the alphabet\n",
    "\n",
    "- $a$ corresponds to 0\n",
    "- $b$ corresponds to $1$\n",
    "- $c$ corresponds to $2$ and\n",
    "- $d$ corresponds to $3$\n",
    "    - Note that this association is arbitrary, and we could have picked a different one. \n",
    "\n",
    "To keep this discussion concrete, suppose Alice wants to encrypt the message `dab` and send it to Bob.  Then Cesar Cipher works as follows: \n",
    "- Once they agree on an Alphabet $A$, and and a mapping to a universe $U$, \n",
    "- they then  agree on a randomly generated  natural number $k\\neq 0$. To keep this concrete, suppose $k=2$ \n",
    "- Given a message, convert it to its \"U\"-representation. In this case, that would be `dab` $\\to$ `301`\n",
    "- We then add $k$ to each element of the message, and reduce it modulo $|U|$\n",
    "    - $|U|$ denotes the number of elements in $U$, and in this case is 4. It is also the size of your alphabet. \n",
    "    and reduce it modulo $|U|$.  \n",
    "- Continuing with our example, we add 2 to each index yielding `523`\n",
    "- Finally, we reduce modulo 4 to get `123` and map it back to our alphabet to get our ciphertext `bcd`\n",
    "- To decrypt, Bob `bcd` to `123` then subtracts 2 from each element and reduces modulo 2. \n",
    "- this yields `-101` which is `301` as -1 mod 4 is 3. Remapping to our alphabet, we recover `dab`\n",
    "\n",
    "## Datastructure to Make this easy\n",
    "- In python, we have dictionary objects. This will greatly simplify the process of implementing this cryptosystem. "
   ]
  },
  {
   "cell_type": "code",
   "execution_count": 35,
   "metadata": {},
   "outputs": [
    {
     "data": {
      "text/plain": [
       "['a', 'b', 'c', 'd']"
      ]
     },
     "execution_count": 35,
     "metadata": {},
     "output_type": "execute_result"
    }
   ],
   "source": [
    "alphabet_to_universe = {'a':0, 'b':1, 'c':2, 'd':3}\n",
    "universe_to_alphabet = {0:'a', 1:'b', 2:'c',3:'d' }\n",
    "\n",
    "universe = [universe_to_alphabet[i] for i in range(4)] \n",
    "universe"
   ]
  },
  {
   "cell_type": "code",
   "execution_count": 38,
   "metadata": {},
   "outputs": [
    {
     "name": "stdout",
     "output_type": "stream",
     "text": [
      "bcd\n",
      "dab\n"
     ]
    }
   ],
   "source": [
    "def encrypt(message, k, f, f_inverse):\n",
    "    ciphertext = ''\n",
    "    for i in message:\n",
    "        if i in alphabet_to_universe:\n",
    "            ciphertext += f_inverse[(f[i] + k) % len(f)]\n",
    "        else:\n",
    "            ciphertext += i\n",
    "    return ciphertext\n",
    "\n",
    "def decrypt(message, k, f, f_inverse):\n",
    "    ciphertext = ''\n",
    "    for i in message:\n",
    "        if i in alphabet_to_universe:\n",
    "            ciphertext += f_inverse[(f[i] - k) % len(f)]\n",
    "        else:\n",
    "            ciphertext += i\n",
    "    return ciphertext\n",
    "\n",
    "k = 2\n",
    "m = 'dab'\n",
    "cipher = encrypt(m, k, alphabet_to_universe, universe_to_alphabet)\n",
    "print(cipher)\n",
    "plaintext = decrypt(cipher, k, alphabet_to_universe, universe_to_alphabet)\n",
    "print(plaintext)\n"
   ]
  },
  {
   "cell_type": "markdown",
   "metadata": {},
   "source": [
    "# Making this Truly General \n",
    "- Arbitrary Ordered Alpha Map, and reverse alpha map"
   ]
  },
  {
   "cell_type": "code",
   "execution_count": 50,
   "metadata": {},
   "outputs": [],
   "source": [
    "alpha_map  = {chr(97 + i):i for i in range(26)}"
   ]
  },
  {
   "cell_type": "code",
   "execution_count": 51,
   "metadata": {},
   "outputs": [],
   "source": [
    "full_alpha_map = {chr(32 + i):i  for i in range(95)}"
   ]
  },
  {
   "cell_type": "code",
   "execution_count": 57,
   "metadata": {},
   "outputs": [],
   "source": [
    "class CeasarCipher:\n",
    "    \"\"\"\n",
    "    Generalized Cesar Cipher\n",
    "    \"\"\"\n",
    "    def __init__(self, shift, alpha_map = 'default', ):\n",
    "        \"\"\"\n",
    "        Pass in a shift key, and an alpha map. The map needs to be a dictionary that \n",
    "        has letters as keys, and its unique position in the alphabet (integer) as the\n",
    "        key.\n",
    "        \"\"\"\n",
    "        if type(alpha_map) != dict:\n",
    "            # letter to number\n",
    "            self.alpha_map  = {chr(97 + i):i for i in range(26)}\n",
    "        else: \n",
    "            self.alpha_map = alpha_map\n",
    "        # Reverse the dicitonary to create the inverse mapping\n",
    "        # Number to letter \n",
    "        self.rev_alpha_map = {v: k for k, v in self.alpha_map.items()}\n",
    "        self._shift = shift\n",
    "        self.modulus = len(self.alpha_map)\n",
    "    \n",
    "    def shift_k(self,m, k):\n",
    "        sm = ''\n",
    "        for i in m:\n",
    "            if i in self.alpha_map:\n",
    "                ind = self.alpha_map[i]\n",
    "                sm += self.rev_alpha_map[(ind + k)%self.modulus]  \n",
    "            else:\n",
    "                sm += i\n",
    "        return sm\n",
    "            \n",
    "    def encrypt(self, message):\n",
    "        return self.shift_k(message, self._shift)\n",
    "    \n",
    "    def decrypt(self, ciphertext):\n",
    "        return self.shift_k(ciphertext, self.modulus- self._shift)\n",
    "    "
   ]
  },
  {
   "cell_type": "code",
   "execution_count": 58,
   "metadata": {},
   "outputs": [
    {
     "data": {
      "text/plain": [
       "'Rovvy*~ro|o+*S*rk!o*~ro*rsqr*q|y xn8'"
      ]
     },
     "execution_count": 58,
     "metadata": {},
     "output_type": "execute_result"
    }
   ],
   "source": [
    "ciph = CeasarCipher(10, full_alpha_map)\n",
    "m = 'Hello there! I have the high ground.'\n",
    "ciph_text =  ciph.encrypt(m)\n",
    "ciph_text"
   ]
  },
  {
   "cell_type": "code",
   "execution_count": 59,
   "metadata": {},
   "outputs": [
    {
     "data": {
      "text/plain": [
       "'Hello there! I have the high ground.'"
      ]
     },
     "execution_count": 59,
     "metadata": {},
     "output_type": "execute_result"
    }
   ],
   "source": [
    "ciph.decrypt(ciph_text)"
   ]
  },
  {
   "cell_type": "code",
   "execution_count": null,
   "metadata": {},
   "outputs": [],
   "source": []
  }
 ],
 "metadata": {
  "kernelspec": {
   "display_name": "Python 3",
   "language": "python",
   "name": "python3"
  },
  "language_info": {
   "codemirror_mode": {
    "name": "ipython",
    "version": 3
   },
   "file_extension": ".py",
   "mimetype": "text/x-python",
   "name": "python",
   "nbconvert_exporter": "python",
   "pygments_lexer": "ipython3",
   "version": "3.6.3"
  }
 },
 "nbformat": 4,
 "nbformat_minor": 2
}
